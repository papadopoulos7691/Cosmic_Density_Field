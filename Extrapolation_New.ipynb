{
 "cells": [
  {
   "cell_type": "markdown",
   "id": "06cc76f4",
   "metadata": {},
   "source": [
    "# Growth approximations plotting code \n",
    "Calculates growth approximation values as a function of z and then uses these to plot over the top of the histogram and fitted curve. "
   ]
  },
  {
   "cell_type": "code",
   "execution_count": null,
   "id": "9f05f9bf",
   "metadata": {},
   "outputs": [],
   "source": [
    "import numpy as np\n",
    "import matplotlib.pyplot as plt\n",
    "import scipy \n",
    "import scipy.stats\n",
    "import scipy.optimize as scopt\n",
    "from scipy.stats import norm\n",
    "from scipy.stats import skew\n",
    "from scipy.stats import skewnorm\n",
    "from scipy.optimize import curve_fit as scurv\n"
   ]
  },
  {
   "cell_type": "markdown",
   "id": "eb65f48f",
   "metadata": {},
   "source": [
    "## Create functions to calculate gaussian and growth approximation, and scale density parameters with redshift"
   ]
  },
  {
   "cell_type": "code",
   "execution_count": null,
   "id": "8f116ba8",
   "metadata": {},
   "outputs": [],
   "source": [
    "def gaussian(x, mean, amplitude, standard_deviation):\n",
    "    return amplitude * np.exp( - (x - mean)**2 / (2*standard_deviation ** 2))"
   ]
  },
  {
   "cell_type": "code",
   "execution_count": null,
   "id": "4d45959b",
   "metadata": {},
   "outputs": [],
   "source": [
    "def Omega(z, O_mass, O_lambda):\n",
    "    return (O_mass*(1+z)**3)/(O_mass*(1+z)**3 + O_lambda)"
   ]
  },
  {
   "cell_type": "code",
   "execution_count": null,
   "id": "9186e6bc",
   "metadata": {
    "scrolled": true
   },
   "outputs": [],
   "source": [
    "def Lahav(O_mass, O_lambda):\n",
    "    return O_mass**(4/7) + (1 + O_mass/2)*(O_lambda/2)"
   ]
  },
  {
   "cell_type": "code",
   "execution_count": null,
   "id": "7183d7f7",
   "metadata": {},
   "outputs": [],
   "source": [
    "def Carroll(O_mass, O_lambda): \n",
    "    return (5/2)*O_mass/(O_mass**(4/7) - O_lambda + (1 + O_mass/2)*(1 + O_lambda/70))"
   ]
  },
  {
   "cell_type": "markdown",
   "id": "06f710e8",
   "metadata": {},
   "source": [
    "## Load data "
   ]
  },
  {
   "cell_type": "code",
   "execution_count": null,
   "id": "e1e87078",
   "metadata": {},
   "outputs": [],
   "source": [
    "def load_data(rad):\n",
    "    \n",
    "    z = []\n",
    "    deltas = []\n",
    "\n",
    "    q = open(f'Text_data/z_{rad}.txt', 'r')\n",
    "    lines = q.readlines()\n",
    "\n",
    "    for i in lines: \n",
    "        z.append(i.split(  )[0])\n",
    "\n",
    "    q.close()\n",
    "    z_arr = np.array(z).astype(float)\n",
    "    sort = np.argsort(z_arr)\n",
    "    z_arr = z_arr[sort]\n",
    "\n",
    "    k = open(f'Text_Data/delta_{rad}.txt', 'r')\n",
    "    lines = k.readlines()\n",
    "\n",
    "    for i in lines:\n",
    "        deltas.append(i.split(  ))\n",
    "\n",
    "    k.close()\n",
    "    delta_arr = np.array(deltas).astype(float)\n",
    "    delta_arr = delta_arr[sort]\n",
    "    \n",
    "    return delta_arr, z_arr\n"
   ]
  },
  {
   "cell_type": "markdown",
   "id": "773461bb",
   "metadata": {},
   "source": [
    "## Calculate growth rate values and use these to plot over histograms, then save while exporting values"
   ]
  },
  {
   "cell_type": "code",
   "execution_count": null,
   "id": "0ff3e607",
   "metadata": {},
   "outputs": [],
   "source": [
    "def approx_plotting(z_arr, delta_arr, rad):\n",
    "    \n",
    "    var_arr = np.ones(len(z_arr))\n",
    "    analytic = np.array([])\n",
    "    carroll = np.array([])\n",
    "    lahav = np.array([])\n",
    "\n",
    "    x = np.linspace(-1,1,10000)\n",
    "    \n",
    "    for i in range(len(z_arr)):\n",
    "        \n",
    "        \n",
    "        z = z_arr[i] \n",
    "        a = 1/(1+z)\n",
    "        \n",
    "        Omega_m = Omega(z, 0.285, 0.715)\n",
    "        Omega_l = 1 - Omega_m\n",
    "        \n",
    "        lahav_approx = Lahav(Omega_m, Omega_l)\n",
    "        carroll_approx = Carroll(Omega_m, Omega_l)\n",
    "        \n",
    "        # Find mean and standard deviation of delta array \n",
    "        mean, std = norm.fit(delta_arr[i])\n",
    "\n",
    "        # Plot histogram of overdensity data and save\n",
    "        z = np.round(z, decimals = 2)\n",
    "        n_bin = 500\n",
    "        plt.clf()\n",
    "        hist =plt.hist(delta_arr[i], bins = n_bin, range = (-1,1), label = 'Overdensities', color = 'g')\n",
    "        plt.title(f'Overdensity Histogram for z = {z}')\n",
    "        plt.xlabel('Overdensity $\\delta$')\n",
    "        plt.ylabel('Frequency')\n",
    "           \n",
    "        \n",
    "        bin_heights, bin_borders = np.histogram(delta_arr[i], bins = n_bin, range = (-1,1))\n",
    "        bin_centers = bin_borders[:-1] + np.diff(bin_borders) / 2 \n",
    "        \n",
    "        popt, pcov = scurv(gaussian, bin_centers, bin_heights, p0 = [0, 1 ,0.1], maxfev = 30000)\n",
    "        \n",
    "        analytic = np.append(analytic, popt[2])\n",
    "\n",
    "        plt.plot(x, gaussian(x, *popt), label = 'Fitted', color = 'blue')\n",
    "        \n",
    "        lahav = np.append(lahav, lahav_approx*a)\n",
    "        \n",
    "        plt.plot(x, gaussian(x, popt[0], popt[1], lahav_approx*a), label = 'Lahav', color = 'r')\n",
    "        \n",
    "        carroll = np.append(carroll, carroll_approx*a )\n",
    "        \n",
    "        plt.plot(x, gaussian(x, popt[0], popt[1], carroll_approx*a), label = 'Carroll', color = 'orange')\n",
    "        \n",
    "        plt.xlabel('Overdensity $\\delta$')\n",
    "        plt.ylabel('Frequency')\n",
    "        plt.xlim(-1,2)\n",
    "        plt.title(f'Linear Extrapolation of Overdensity Values for z = {z}')\n",
    "        plt.legend()\n",
    "        plt.savefig(f'Extrapolated/Extrapolated_{rad}Mpc_redshift_{z}.jpeg', dpi =200)\n",
    "        plt.show()\n",
    "        \n",
    "    return carroll, lahav\n",
    "    "
   ]
  },
  {
   "cell_type": "markdown",
   "id": "84ca540e",
   "metadata": {},
   "source": [
    "## Write out growth rate values for use elsewhere"
   ]
  },
  {
   "cell_type": "code",
   "execution_count": null,
   "id": "4724bee7",
   "metadata": {},
   "outputs": [],
   "source": [
    "def data_out(lahav, carroll, rad):     \n",
    "    outfile = open(f'Text_Data/Extrapolation Data/lahav_{rad}Mpc.txt', 'w')\n",
    "\n",
    "    for i in range(len(lahav)):\n",
    "        outfile.write(str(lahav[i]) + \"\\n\")\n",
    "\n",
    "    outfile.close()\n",
    "\n",
    "    outfile = open(f'Text_Data/Extrapolation Data/carroll_{rad}Mpc.txt', 'w')\n",
    "\n",
    "    for i in range(len(carroll)):\n",
    "        outfile.write(str(carroll[i]) + \"\\n\")\n",
    "\n",
    "    outfile.close()"
   ]
  },
  {
   "cell_type": "code",
   "execution_count": null,
   "id": "d0d4a5cc",
   "metadata": {},
   "outputs": [],
   "source": [
    "rads = [30]\n",
    "for rad in rads:\n",
    "    delta_arr, z_arr = load_data(rad)\n",
    "    carroll, lahav = approx_plotting(z_arr, delta_arr, rad)\n",
    "    data_out(lahav, carroll, rad)"
   ]
  },
  {
   "cell_type": "code",
   "execution_count": null,
   "id": "cef38cf0",
   "metadata": {},
   "outputs": [],
   "source": []
  },
  {
   "cell_type": "code",
   "execution_count": null,
   "id": "88ef4a0c",
   "metadata": {},
   "outputs": [],
   "source": []
  }
 ],
 "metadata": {
  "kernelspec": {
   "display_name": "Python 3 (ipykernel)",
   "language": "python",
   "name": "python3"
  },
  "language_info": {
   "codemirror_mode": {
    "name": "ipython",
    "version": 3
   },
   "file_extension": ".py",
   "mimetype": "text/x-python",
   "name": "python",
   "nbconvert_exporter": "python",
   "pygments_lexer": "ipython3",
   "version": "3.9.12"
  }
 },
 "nbformat": 4,
 "nbformat_minor": 5
}
