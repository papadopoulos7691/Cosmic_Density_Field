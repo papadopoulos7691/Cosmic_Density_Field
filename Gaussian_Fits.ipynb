{
 "cells": [
  {
   "cell_type": "markdown",
   "id": "04c980a2",
   "metadata": {},
   "source": [
    "# Gaussian fitting and mass fucntion calculations\n",
    "This notebook creates density histograms and then fits a gaussian curve to them, as well as a skewnormal distribution. It then goes on to look at calculation of mass functions from a number of sourcesand visualise these. "
   ]
  },
  {
   "cell_type": "code",
   "execution_count": null,
   "id": "31c5acf3",
   "metadata": {},
   "outputs": [],
   "source": [
    "#Import packages\n",
    "import numpy as np\n",
    "import matplotlib.pyplot as plt\n",
    "import scipy \n",
    "import scipy.stats\n",
    "import scipy.optimize as scopt\n",
    "from scipy.stats import norm\n",
    "from scipy.stats import skew\n",
    "from scipy.stats import skewnorm\n",
    "from scipy.optimize import curve_fit as scurv\n",
    "from scipy import integrate "
   ]
  },
  {
   "cell_type": "markdown",
   "id": "7f77bde6",
   "metadata": {},
   "source": [
    "## Load data for gaussian plotting"
   ]
  },
  {
   "cell_type": "code",
   "execution_count": null,
   "id": "85efb409",
   "metadata": {},
   "outputs": [],
   "source": [
    "def load_data(rad):\n",
    "    z = []\n",
    "    deltas = []\n",
    "\n",
    "    q = open(f'Text_data/z_{rad}.txt', 'r')\n",
    "    lines = q.readlines()\n",
    "    for i in lines: \n",
    "        z.append(i.split(  )[0])\n",
    "    q.close()\n",
    "\n",
    "    z_arr = np.array(z).astype(float)\n",
    "    sort = np.argsort(z_arr)\n",
    "    z_arr = z_arr[sort]\n",
    "\n",
    "    k = open(f'Text_Data/delta_{rad}.txt', 'r')\n",
    "    lines = k.readlines()\n",
    "    for i in lines:\n",
    "        deltas.append(i.split(  ))\n",
    "    k.close()\n",
    "\n",
    "    delta_arr = np.array(deltas).astype(float)\n",
    "    delta_arr = delta_arr[sort]\n",
    "    \n",
    "    return delta_arr, z_arr"
   ]
  },
  {
   "cell_type": "markdown",
   "id": "2f6515a5",
   "metadata": {},
   "source": [
    "## Load data, additionally loading mass data"
   ]
  },
  {
   "cell_type": "code",
   "execution_count": null,
   "id": "388031aa",
   "metadata": {},
   "outputs": [],
   "source": [
    "def load_mass_data(rad):\n",
    "    \n",
    "    z = []\n",
    "    deltas = []\n",
    "    masses = []\n",
    "\n",
    "    q = open(f'Text_data/Mass_Calcs/z_{rad}_mass.txt', 'r')\n",
    "    lines = q.readlines()\n",
    "    for i in lines: \n",
    "        z.append(i.split(  )[0])\n",
    "    q.close()\n",
    "\n",
    "    z_arr = np.array(z).astype(float)\n",
    "    sort = np.argsort(z_arr)\n",
    "    z_arr = z_arr[sort]\n",
    "\n",
    "    k = open(f'Text_Data/Mass_Calcs/delta_{rad}_mass.txt', 'r')\n",
    "    lines = k.readlines()\n",
    "    for i in lines:\n",
    "        deltas.append(i.split(  ))\n",
    "    k.close()\n",
    "\n",
    "    delta_arr = np.array(deltas).astype(float)\n",
    "    delta_arr = delta_arr[sort]\n",
    "\n",
    "    q = open(f'Text_data/Mass_Calcs/masses_{rad}.txt', 'r')\n",
    "    \n",
    "    lines = q.readlines()\n",
    "    for i in lines: \n",
    "        masses.append(i.split(  )[0])\n",
    "    q.close()\n",
    "    \n",
    "    mass_arr = np.array(masses).astype(float)\n",
    "    mass_arr = mass_arr[sort]\n",
    "   \n",
    "    \n",
    "    return delta_arr, z_arr, mass_arr"
   ]
  },
  {
   "cell_type": "markdown",
   "id": "fb5950b3",
   "metadata": {},
   "source": [
    "## Load halo virial masses as an array "
   ]
  },
  {
   "cell_type": "code",
   "execution_count": null,
   "id": "2a6fd1b4",
   "metadata": {},
   "outputs": [],
   "source": [
    "def load_halos(filename):\n",
    "    \n",
    "    halo_mass =[]\n",
    "    q = open(f'Text_data/{filename}', 'r')\n",
    "    lines = q.readlines()\n",
    "    for i in lines: \n",
    "        halo_mass.append(i.split(  )[0])\n",
    "    q.close()\n",
    "    \n",
    "    halo_mass_arr = np.array(halo_mass).astype(float)\n",
    "    return halo_mass_arr"
   ]
  },
  {
   "cell_type": "markdown",
   "id": "caf74401",
   "metadata": {},
   "source": [
    "## Define gaussian curve for fitting"
   ]
  },
  {
   "cell_type": "code",
   "execution_count": null,
   "id": "43b7f4b8",
   "metadata": {},
   "outputs": [],
   "source": [
    "def gaussian(x, mean, amplitude, standard_deviation):\n",
    "    return amplitude * np.exp( - (x - mean)**2 / (2*standard_deviation ** 2))"
   ]
  },
  {
   "cell_type": "markdown",
   "id": "07d192b3",
   "metadata": {},
   "source": [
    "## Plot histograms and fit gaussian and skewnormal curves before returning arrays of std dev and skewness"
   ]
  },
  {
   "cell_type": "code",
   "execution_count": null,
   "id": "82001864",
   "metadata": {},
   "outputs": [],
   "source": [
    "def gaussian_plot(z_arr, delta_arr, rad):\n",
    "    \n",
    "    var_arr = np.ones(len(z_arr))\n",
    "    skew_arr = np.ones(len(z_arr))\n",
    "    skew_err = np.ones(len(z_arr))\n",
    "    x = np.linspace(-1,1,10000)\n",
    "    ran = (-1, 1)\n",
    "    for i in range(len(z_arr)):\n",
    "\n",
    "        z = z_arr[i] \n",
    "\n",
    "        mu, std = norm.fit(delta_arr[i])\n",
    "        z = np.round(z, decimals = 2)\n",
    "\n",
    "        n_bin = 1000\n",
    "\n",
    "        bin_heights, bin_borders = np.histogram(delta_arr[i], bins = n_bin, range = ran)\n",
    "        bin_centers = bin_borders[:-1] + np.diff(bin_borders) / 2 \n",
    "\n",
    "        plt.clf()\n",
    "        hist =plt.hist(delta_arr[i], bins = n_bin, range = ran, label = 'Overdensities', color = 'g' )\n",
    "        plt.title(f'Overdensity Histogram for z = {z}')\n",
    "        plt.xlabel('Overdensity $\\delta$')\n",
    "        plt.ylabel('Frequency')\n",
    "        plt.savefig(f'Hists/Overdensity_{rad}Mpc_redshift_{z}.jpeg', dpi =200)\n",
    "\n",
    "        popt, pcov = scurv(gaussian, bin_centers, bin_heights, p0 = [0, 1 ,0.1], maxfev = 40000)\n",
    "        std = popt[2]\n",
    "        var = std*std\n",
    "        var_arr[i] *= var\n",
    "\n",
    "        plt.plot(x, gaussian(x, *popt), label = f'Gaussian Fit', color = 'b' )\n",
    "        plt.xlabel('Overdensity $\\delta$')\n",
    "        plt.ylabel('Frequency')\n",
    "        plt.xlim(ran)\n",
    "        plt.title(f'Expected Distribution of Overdensity Values for z = {z}')\n",
    "        plt.legend()\n",
    "        plt.savefig(f'Gaussians/Gaussian_{rad}Mpc_redshift_{z}.jpeg', dpi =200)\n",
    "\n",
    "        skew_arr[i] *= skew((delta_arr[i]))\n",
    "        data = skewnorm.fit(delta_arr[i])\n",
    "\n",
    "        plt.clf()\n",
    "        n_bin = 100\n",
    "        plt.figure(figsize=(8,3))\n",
    "        hist = plt.hist(delta_arr[i], bins = n_bin, label = 'Overdensities', range = ran, color = 'g')\n",
    "        #plt.title(f'Overdensity Histogram for z = {z}')\n",
    "        plt.xlabel('Overdensity $\\delta$')\n",
    "        plt.ylabel('Frequency')\n",
    "        popt, pcov = scurv(skewnorm.pdf, bin_centers, bin_heights, p0 = [data[0], data[1], data[2]], maxfev = 50000)\n",
    "        perr = np.sqrt(np.diag(pcov))\n",
    "        \n",
    "        a, loc, scale = skewnorm.fit(delta_arr[i])\n",
    "\n",
    "        # Calculate the standard error of the skewness parameter\n",
    "        n = len(delta_arr[i])\n",
    "        s = np.std(data, ddof=1)\n",
    "        m2 = np.mean((data - np.mean(delta_arr[i]))**2)\n",
    "        m3 = np.mean((data - np.mean(delta_arr[i]))**3)\n",
    "        SE_a = np.sqrt(6 * n * (n - 1) / ((n - 2) * (n + 1) * (n + 3))) * (m3 / s**3 - 3 * a * m2 / s**2 + 2 * a**3)\n",
    "        \n",
    "        skew_err[i] *= SE_a\n",
    "        #skew_err[i] *= perr[0]\n",
    "        \n",
    "        width = hist[1][1] - hist[1][0]\n",
    "        scale = len(delta_arr[i]) * width \n",
    "        plt.plot(x, scale*skewnorm.pdf(x, data[0], data[1], data[2] ), color = 'r', label = 'Skewnormal Fit')\n",
    "        plt.savefig(f'Skewnormal/Skewnormal_{rad}Mpc_redshift_{z}.jpeg', dpi =200, bbox_inches = \"tight\")\n",
    "     \n",
    "    return var_arr, skew_arr, skew_err"
   ]
  },
  {
   "cell_type": "markdown",
   "id": "9c2fae13",
   "metadata": {},
   "source": [
    "## Subplots for use in report and presentation "
   ]
  },
  {
   "cell_type": "code",
   "execution_count": null,
   "id": "6baccee3",
   "metadata": {},
   "outputs": [],
   "source": [
    "def subplots_gaussian(z_arr, delta_arr, rad):\n",
    "    \n",
    "    ran = (-1,1)\n",
    "    x = np.linspace(-1, 1, 1000)\n",
    "\n",
    "    fig, ((ax1,ax2),(ax3,ax4)) = plt.subplots(figsize = (8,4), nrows=2, ncols=2, sharex = True)\n",
    "    \n",
    "    z = np.round(z_arr, decimals = 2)\n",
    "    \n",
    "    bin_heights, bin_borders = np.histogram(delta_arr[0], bins = 30 , range = ran)\n",
    "    bin_centers = bin_borders[:-1] + np.diff(bin_borders) / 2 \n",
    "    hist = ax4.hist(delta_arr[0], bins = 30, range = ran, color = 'g' )\n",
    "    popt, pcov = scurv(gaussian, bin_centers, bin_heights, p0 = [0, 1 ,0.1], maxfev = 40000)\n",
    "    ax4.plot(x, gaussian(x, *popt), color = 'r' )\n",
    "    ax4.text(0.7,0.9, 'z = 0.0', transform=ax4.transAxes)\n",
    "    \n",
    "    \n",
    "    bin_heights, bin_borders = np.histogram(delta_arr[5], bins = 50, range = ran)\n",
    "    bin_centers = bin_borders[:-1] + np.diff(bin_borders) / 2 \n",
    "    hist = ax3.hist(delta_arr[5], bins = 50, range = ran, color = 'g' )\n",
    "    popt, pcov = scurv(gaussian, bin_centers, bin_heights, p0 = [0, 1 ,0.1], maxfev = 40000)\n",
    "    ax3.plot(x, gaussian(x, *popt), color = 'r' )\n",
    "    ax3.text(0.7,0.9, f'z = {z[5]}', transform=ax3.transAxes)\n",
    "    \n",
    "    bin_heights, bin_borders = np.histogram(delta_arr[10], bins = 120, range = ran)\n",
    "    bin_centers = bin_borders[:-1] + np.diff(bin_borders) / 2 \n",
    "    hist = ax2.hist(delta_arr[10], bins = 120, range = ran, color = 'g' )\n",
    "    popt, pcov = scurv(gaussian, bin_centers, bin_heights, p0 = [0, 1 ,0.1], maxfev = 40000)\n",
    "    ax2.plot(x, gaussian(x, *popt), color = 'r' )\n",
    "    ax2.text(0.7,0.9, f'z = {z[10]}', transform=ax2.transAxes)\n",
    "    \n",
    "    bin_heights, bin_borders = np.histogram(delta_arr[-1], bins = 500, range = ran)\n",
    "    bin_centers = bin_borders[:-1] + np.diff(bin_borders) / 2 \n",
    "    hist = ax1.hist(delta_arr[-1], bins = 500, range = ran, color = 'g' )\n",
    "    popt, pcov = scurv(gaussian, bin_centers, bin_heights, p0 = [0, 1 ,0.1], maxfev = 40000)\n",
    "    ax1.plot(x, gaussian(x, *popt), label = f'Fitted Curve', color = 'r' )\n",
    "    ax1.text(0.7,0.9, 'z = 99.0', transform=ax1.transAxes)\n",
    "    \n",
    "    fig.text(0.5, 0.02, 'Overdensity $\\delta$', ha='center', fontsize=14)\n",
    "    fig.text(0.04, 0.5, 'Frequency', va='center', rotation='vertical', fontsize=14)\n",
    "    fig.subplots_adjust(wspace=0.15, hspace=0.15)\n",
    "    fig.legend(bbox_to_anchor = (0.595, 0))\n",
    "    plt.savefig('Subplots\\Gaussian_Subplots', dpi = 200)  "
   ]
  },
  {
   "cell_type": "markdown",
   "id": "68394a89",
   "metadata": {},
   "source": [
    "##  Numerical integration mass function method - finding area of curve "
   ]
  },
  {
   "cell_type": "code",
   "execution_count": null,
   "id": "64c49203",
   "metadata": {},
   "outputs": [],
   "source": [
    "def area_beneath(delta_arr, z_arr):\n",
    "    \n",
    "    F = []\n",
    "    sigma = []\n",
    "    k = np.linspace(-1,2, 1000)\n",
    "    for i in range(len(z_arr)):\n",
    "    \n",
    "        n_bin = 1000\n",
    "        bin_heights, bin_borders = np.histogram(delta_arr[i], bins = n_bin, range = (-1,3))\n",
    "        bin_centers = bin_borders[:-1] + np.diff(bin_borders) / 2 \n",
    "        popt, pcov = scurv(gaussian, bin_centers, bin_heights, p0 = [np.mean(delta_arr[i]), 1, 0.05], maxfev = 50000)\n",
    "        x, y = 1.686, np.inf\n",
    "\n",
    "        area, error = integrate.quad(gaussian, x, y, args =(popt[0], popt[1], popt[2]))\n",
    "        F.append(area)\n",
    "        sigma.append(np.abs(popt[2]))\n",
    "\n",
    "        \n",
    "    return F, sigma"
   ]
  },
  {
   "cell_type": "markdown",
   "id": "2b34c221",
   "metadata": {},
   "source": [
    "## Calculation of mass function from above method"
   ]
  },
  {
   "cell_type": "code",
   "execution_count": null,
   "id": "3d0297a3",
   "metadata": {},
   "outputs": [],
   "source": [
    "def numerical(F, rad, masses, rho_bar):\n",
    "    \n",
    "    dFdr = np.abs(np.gradient(F, rad))\n",
    "    \n",
    "    drdM = np.abs(np.gradient(rad, masses))\n",
    "    \n",
    "    dFdM = dFdr * drdM\n",
    "    \n",
    "    dndM = dFdM * (rho_bar/masses)\n",
    "    \n",
    "    return dndM"
   ]
  },
  {
   "cell_type": "markdown",
   "id": "5f0fb6c1",
   "metadata": {},
   "source": [
    "## Calculation of mass function by analytic method"
   ]
  },
  {
   "cell_type": "code",
   "execution_count": null,
   "id": "355a099f",
   "metadata": {},
   "outputs": [],
   "source": [
    "def press_schechter(d_c, sigma, masses, rho_bar):\n",
    "    \n",
    "    ps = np.sqrt(2/np.pi) * (d_c/sigma**2) * (rho_bar/masses) * np.abs(np.gradient((sigma), (masses))) * np.exp(-(d_c**2) /(2*sigma**2)) \n",
    "        \n",
    "    return ps"
   ]
  },
  {
   "cell_type": "markdown",
   "id": "c8895c1a",
   "metadata": {},
   "source": [
    "## Write out gaussian fitting data"
   ]
  },
  {
   "cell_type": "code",
   "execution_count": null,
   "id": "1d0a6c76",
   "metadata": {},
   "outputs": [],
   "source": [
    "def data_out(rad, var_arr, skew_arr, skew_err):\n",
    "    outfile = open(f'Text_Data/variance_{rad}Mpc.txt', 'w')\n",
    "\n",
    "    for i in range(len(var_arr)):\n",
    "        outfile.write(str(var_arr[i]) + \"\\n\")\n",
    "\n",
    "    outfile.close()\n",
    "\n",
    "    outfile = open(f'Text_Data/skew_{rad}Mpc.txt', 'w')\n",
    "\n",
    "    for i in range(len(skew_arr)):\n",
    "        outfile.write(str(skew_arr[i]) + \"\\n\")\n",
    "\n",
    "    outfile.close()\n",
    "    \n",
    "    outfile = open(f'Text_Data/skew_err_{rad}Mpc.txt', 'w')\n",
    "\n",
    "    for i in range(len(skew_err)):\n",
    "        outfile.write(str(skew_err[i]) + \"\\n\")\n",
    "\n",
    "    outfile.close()"
   ]
  },
  {
   "cell_type": "markdown",
   "id": "a450e2e2",
   "metadata": {},
   "source": [
    "## Plot mass functions using numerical and analytic methods"
   ]
  },
  {
   "cell_type": "code",
   "execution_count": null,
   "id": "1efc27db",
   "metadata": {},
   "outputs": [],
   "source": [
    "def mass_funcs_plot(sigma_0, mass_0, F, rho_bar_0, rads):\n",
    "    \n",
    "    ps = press_schechter(1.686, sigma_0, mass_0, rho_bar_0)\n",
    "    dndm = numerical(F, rads, mass_0, rho_bar_0)\n",
    "    plt.plot((mass_0), ps, label = 'Analytic', color = 'g')\n",
    "    plt.plot((mass_0), dndm, label = 'Numerical', color = 'k')\n",
    "    plt.xlabel('$log_{10}({M}/{M_{sun}}$)')\n",
    "    plt.ylabel('$\\phi = dn/dlog_{10}M$  $(Mpc/h)^{-3}$')\n",
    "    plt.yscale('log')\n",
    "    #plt.xlim(12.4,15.7)\n",
    "    plt.legend()\n",
    "    plt.savefig('Numerical_vs_Analytic', dpi = 200)\n",
    "    plt.show()\n",
    "    plt.clf() \n",
    "    \n",
    "    return ps, dndm"
   ]
  },
  {
   "cell_type": "markdown",
   "id": "5d7962b7",
   "metadata": {},
   "source": [
    "## Calculation of data for mass function plotting "
   ]
  },
  {
   "cell_type": "code",
   "execution_count": null,
   "id": "9934efea",
   "metadata": {},
   "outputs": [],
   "source": [
    "def mass_funcs(rads):\n",
    "    \n",
    "    sigma_0 = []\n",
    "    \n",
    "    F_0,F_2,F_99 = [], [], []\n",
    "    mass_0,mass_2,mass_99 = [], [], []\n",
    "    for i in range(len(rads)):\n",
    "        delta_arr, z_arr, mass_arr= load_mass_data(rads[i])\n",
    "        mass_arr = mass_arr/(1.9884e33)\n",
    "        F, sigmas = area_beneath(delta_arr, z_arr)\n",
    "        sigma_0.append(sigmas[0]) \n",
    "        F_0.append(F[0]) \n",
    "        mass_0.append(mass_arr[0])  \n",
    "       \n",
    "    sigma_0 = np.array(sigma_0)\n",
    "    mass_0 = np.array(mass_0)\n",
    "    a = 1/(1+z_arr)\n",
    "    \n",
    "    rho_bar_0 = (mass_0[0]*0.695**3)/((4*np.pi*1**3)/3)\n",
    "    rho_bar_0 = ((3*(0.695*100)**2)/(8*np.pi*4.7e-9)) * 0.285\n",
    "\n",
    "    \n",
    "    mass_0 = np.log10(mass_0)\n",
    "    mass_funcs_plot(sigma_0, mass_0, F_0, rho_bar_0, rads)\n",
    "    \n",
    "    return mass_0"
   ]
  },
  {
   "cell_type": "markdown",
   "id": "4b7a58d1",
   "metadata": {},
   "source": [
    "## Calculation of mass function from halo catalog method"
   ]
  },
  {
   "cell_type": "code",
   "execution_count": null,
   "id": "710aede8",
   "metadata": {},
   "outputs": [],
   "source": [
    "def halo_function(halo_masses, rads, mass_0):\n",
    "    \n",
    "    bins = np.linspace(12.5, np.max(halo_masses), len(rads))\n",
    "    counts, _ = np.histogram(halo_masses, bins=bins)\n",
    "    bin_widths = np.diff(bins)\n",
    "    mass = np.sum(counts)\n",
    "    counts = counts / bin_widths\n",
    "    counts = counts/1600**3\n",
    "    \n",
    "    return counts, bins\n"
   ]
  },
  {
   "cell_type": "markdown",
   "id": "e08a9eba",
   "metadata": {},
   "source": [
    "## Halo mass fucntion plotting for z-val range"
   ]
  },
  {
   "cell_type": "code",
   "execution_count": null,
   "id": "c9f5fe0c",
   "metadata": {},
   "outputs": [],
   "source": [
    "def halo_mass_plot(files):\n",
    "\n",
    "    zs = [0, 1, 2, 3, 4]\n",
    "    rads = np.array([1,2,3,4,5,10, 15, 25,30])\n",
    "    mass_0 = mass_funcs(rads)\n",
    "\n",
    "\n",
    "    for i in range(len(files)):\n",
    "        halo_masses = load_halos(f'{files[i]}')\n",
    "        halo_masses = np.flip(halo_masses)\n",
    "        halo_masses = halo_masses/0.695\n",
    "        halo_masses= np.log10(halo_masses)\n",
    "\n",
    "        counts, bins = halo_function(halo_masses, rads,mass_0)\n",
    "        plt.plot(bins[1:], counts, label = f'z={zs[i]}')\n",
    "\n",
    "    plt.yscale('log')\n",
    "    plt.xlabel('$log_{10}({M}/{M_{sun}}$)')\n",
    "    plt.ylabel('$\\phi = dn/dlog_{10}M$  $(Mpc/h)^{-3}$')\n",
    "\n",
    "    plt.legend()\n",
    "    plt.savefig('mass_func_evo.jpeg', dpi = 200)\n",
    "    plt.show()\n",
    "\n",
    "    \n",
    "halo_files = ['halo_masses.txt', 'halo_masses_1.txt','halo_masses_2.txt', 'halo_masses_3.txt', 'halo_masses_4.txt']  \n",
    "\n",
    "halo_mass_plot(halo_files)"
   ]
  },
  {
   "cell_type": "code",
   "execution_count": null,
   "id": "718b114c",
   "metadata": {},
   "outputs": [],
   "source": []
  },
  {
   "cell_type": "code",
   "execution_count": null,
   "id": "323f602d",
   "metadata": {},
   "outputs": [],
   "source": []
  }
 ],
 "metadata": {
  "kernelspec": {
   "display_name": "Python 3 (ipykernel)",
   "language": "python",
   "name": "python3"
  },
  "language_info": {
   "codemirror_mode": {
    "name": "ipython",
    "version": 3
   },
   "file_extension": ".py",
   "mimetype": "text/x-python",
   "name": "python",
   "nbconvert_exporter": "python",
   "pygments_lexer": "ipython3",
   "version": "3.9.12"
  }
 },
 "nbformat": 4,
 "nbformat_minor": 5
}
