{
 "cells": [
  {
   "cell_type": "code",
   "execution_count": 1,
   "id": "5172f8f2",
   "metadata": {},
   "outputs": [],
   "source": [
    "import numpy as np\n"
   ]
  },
  {
   "cell_type": "code",
   "execution_count": 22,
   "id": "2be0b783",
   "metadata": {},
   "outputs": [],
   "source": [
    "a_rand = np.random.rand(3,70)\n",
    "a_spheres = a*10**2\n"
   ]
  },
  {
   "cell_type": "code",
   "execution_count": 24,
   "id": "771e8311",
   "metadata": {},
   "outputs": [],
   "source": [
    "outfile = open('random_locations_100mpc.txt', 'w')\n",
    "for i in range(70):\n",
    "    outfile.write(str(a_spheres[0][i]) + \" \" + str(a_spheres[1][i]) + \" \" + str(a_spheres[2][i]) + \"\\n\")\n",
    "\n",
    "outfile.close()"
   ]
  }
 ],
 "metadata": {
  "kernelspec": {
   "display_name": "Python 3 (ipykernel)",
   "language": "python",
   "name": "python3"
  },
  "language_info": {
   "codemirror_mode": {
    "name": "ipython",
    "version": 3
   },
   "file_extension": ".py",
   "mimetype": "text/x-python",
   "name": "python",
   "nbconvert_exporter": "python",
   "pygments_lexer": "ipython3",
   "version": "3.9.12"
  }
 },
 "nbformat": 4,
 "nbformat_minor": 5
}
