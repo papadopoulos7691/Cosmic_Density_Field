{
 "cells": [
  {
   "cell_type": "markdown",
   "id": "5ca63145",
   "metadata": {},
   "source": [
    "## Select random locations for centre of sampling regions"
   ]
  },
  {
   "cell_type": "code",
   "execution_count": null,
   "id": "68bcd462",
   "metadata": {},
   "outputs": [],
   "source": [
    "import numpy as np"
   ]
  },
  {
   "cell_type": "code",
   "execution_count": null,
   "id": "3e8f1f1d",
   "metadata": {
    "scrolled": true
   },
   "outputs": [],
   "source": [
    "N = 500\n",
    "rstate  = np.random.default_rng(1967)To \n",
    "a_rand_1 = rstate.uniform(0, 1600,size=N)\n",
    "a_rand_2 = rstate.uniform(0, 1600,size=N)\n",
    "a_rand_3 = rstate.uniform(0, 1600,size=N)"
   ]
  },
  {
   "cell_type": "code",
   "execution_count": null,
   "id": "ded3f2cc",
   "metadata": {},
   "outputs": [],
   "source": [
    "outfile = open('Text_Data/random_locations_1600mpc_half.txt', 'w')\n",
    "for i in range(N):\n",
    "    outfile.write(str(a_rand_1[i]) + \" \" + str(a_rand_2[i]) + \" \" + str(a_rand_3[i]) + \"\\n\")\n",
    "\n",
    "outfile.close()"
   ]
  }
 ],
 "metadata": {
  "kernelspec": {
   "display_name": "Python 3 (ipykernel)",
   "language": "python",
   "name": "python3"
  },
  "language_info": {
   "codemirror_mode": {
    "name": "ipython",
    "version": 3
   },
   "file_extension": ".py",
   "mimetype": "text/x-python",
   "name": "python",
   "nbconvert_exporter": "python",
   "pygments_lexer": "ipython3",
   "version": "3.9.12"
  }
 },
 "nbformat": 4,
 "nbformat_minor": 5
}
