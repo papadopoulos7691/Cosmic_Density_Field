{
 "cells": [
  {
   "cell_type": "markdown",
   "id": "05f68219",
   "metadata": {},
   "source": [
    "# EdS extrapolated gaussian analysis \n",
    "Creating extrapolated gaussian profiles and plotting them alongside fitted curves\n"
   ]
  },
  {
   "cell_type": "code",
   "execution_count": null,
   "id": "9f05f9bf",
   "metadata": {},
   "outputs": [],
   "source": [
    "# Import packages\n",
    "import numpy as np\n",
    "import matplotlib.pyplot as plt\n",
    "import scipy \n",
    "import scipy.stats\n",
    "import scipy.optimize as scopt\n",
    "from scipy.stats import norm\n",
    "from scipy.stats import skew\n",
    "from scipy.stats import skewnorm\n",
    "from scipy.optimize import curve_fit as scurv\n"
   ]
  },
  {
   "cell_type": "markdown",
   "id": "27e4868e",
   "metadata": {},
   "source": [
    "## Define gaussian curve for fitting"
   ]
  },
  {
   "cell_type": "code",
   "execution_count": null,
   "id": "8f116ba8",
   "metadata": {},
   "outputs": [],
   "source": [
    "def gaussian(x, mean, amplitude, standard_deviation):\n",
    "    return amplitude * np.exp( - (x - mean)**2 / (2*standard_deviation ** 2))"
   ]
  },
  {
   "cell_type": "markdown",
   "id": "7d26e91e",
   "metadata": {},
   "source": [
    "## Load data for use in plotting"
   ]
  },
  {
   "cell_type": "code",
   "execution_count": null,
   "id": "05a7bf76",
   "metadata": {},
   "outputs": [],
   "source": [
    "def data_load(rad):\n",
    "    z = []\n",
    "    deltas = []\n",
    "\n",
    "    q = open(f'Text_data/z_{rad}.txt', 'r')\n",
    "    lines = q.readlines()\n",
    "    for i in lines: \n",
    "        z.append(i.split(  )[0])\n",
    "    q.close()\n",
    "    z_arr = np.array(z).astype(float)\n",
    "    sort = np.argsort(z_arr)\n",
    "    z_arr = z_arr[sort]\n",
    "\n",
    "    k = open(f'Text_Data/delta_{rad}.txt', 'r')\n",
    "    lines = k.readlines()\n",
    "    for i in lines:\n",
    "        deltas.append(i.split(  ))\n",
    "\n",
    "    k.close()\n",
    "    delta_arr = np.array(deltas).astype(float)\n",
    "    delta_arr = delta_arr[sort]\n",
    "    \n",
    "    var_arr = np.ones(len(z_arr))\n",
    "\n",
    "    skew_arr = np.ones(len(z_arr))\n",
    "    z = z_arr[13]\n",
    "    delta = delta_arr[13]\n",
    "    \n",
    "    bin_heights, bin_borders = np.histogram(delta_arr[13], bins = 500, range = (-1,1))\n",
    "    bin_centers = bin_borders[:-1] + np.diff(bin_borders) / 2\n",
    "    \n",
    "    popt, pcov = scurv(gaussian, bin_centers, bin_heights, p0 = [0, 1 ,0.1], maxfev = 30000)\n",
    "    a = 1/(1+z)\n",
    "    b = popt[2]/a\n",
    "    \n",
    "    perr = np.sqrt(np.diag(pcov))\n",
    "    b_err = perr[2]/a\n",
    "    \n",
    "    return z_arr, delta_arr, b, b_err "
   ]
  },
  {
   "cell_type": "markdown",
   "id": "5512530b",
   "metadata": {},
   "source": [
    "## Create histogram of loaded data, fit curve and add extrapolated, return array of data"
   ]
  },
  {
   "cell_type": "code",
   "execution_count": null,
   "id": "7cabf8cb",
   "metadata": {},
   "outputs": [],
   "source": [
    "def extrapolation(z_arr, delta_arr, b, rad):\n",
    "    \n",
    "    analytic = np.array([])\n",
    "    modified = np.array([])\n",
    "    \n",
    "    x = np.linspace(-1, 1,10000)\n",
    "    \n",
    "    for i in range(13):\n",
    "        \n",
    "        \n",
    "        z = z_arr[i] \n",
    "        a = 1/(1+z)\n",
    "    \n",
    "\n",
    "        # Find mean and standard deviation of delta array \n",
    "        mean, std = norm.fit(delta_arr[i])\n",
    "\n",
    "\n",
    "        # Plot histogram of overdensity data and save\n",
    "        z = np.round(z, decimals = 2)\n",
    "        n_bin = 70\n",
    "        plt.clf()\n",
    "        hist =plt.hist(delta_arr[i], bins = n_bin, range = (-1,1), label = 'Overdensities', color = 'g')\n",
    "        plt.title(f'Overdensity Histogram for z = {z}')\n",
    "        plt.xlabel('Overdensity $\\delta$')\n",
    "        plt.ylabel('Frequency')\n",
    "           \n",
    "        \n",
    "        bin_heights, bin_borders = np.histogram(delta_arr[i], bins = n_bin, range = (-1,1))\n",
    "        bin_centers = bin_borders[:-1] + np.diff(bin_borders) / 2 \n",
    "        \n",
    "        popt, pcov = scurv(gaussian, bin_centers, bin_heights, p0 = [0, 1 ,0.1], maxfev = 30000)\n",
    "        \n",
    "        modified = np.append(modified, popt[2])\n",
    "        \n",
    "        plt.plot(x, gaussian(x, *popt), label = 'Fitted', color = 'blue')\n",
    "        \n",
    "        popt, pcov = scurv(gaussian, bin_centers, bin_heights, p0 = [0, 1 ,0.1], maxfev = 30000)\n",
    "        \n",
    "        analytic = np.append(analytic, b*a)\n",
    "        \n",
    "        plt.plot(x, gaussian(x, popt[0], popt[1], b*a), label = 'Linear', color = 'r')\n",
    "        \n",
    "        plt.xlabel('Overdensity $\\delta$')\n",
    "        plt.ylabel('Frequency')\n",
    "        plt.title(f'Linear Extrapolation of Overdensity Values for z = {z}')\n",
    "        plt.legend()\n",
    "        plt.savefig(f'Extrapolated/Extrapolated_{rad}Mpc_redshift_{z}.jpeg', dpi =200)\n",
    "        plt.show()\n",
    "        \n",
    "    return modified, analytic \n",
    "    \n",
    "    "
   ]
  },
  {
   "cell_type": "markdown",
   "id": "66612c7b",
   "metadata": {},
   "source": [
    "## Subplots to use in presentation and report for chosen z vals"
   ]
  },
  {
   "cell_type": "code",
   "execution_count": null,
   "id": "19e4ffa3",
   "metadata": {},
   "outputs": [],
   "source": [
    "def subplots_extrapolated(z_arr, delta_arr, b, rad):\n",
    "    \n",
    "    ran = (-1,1)\n",
    "    x = np.linspace(-1, 1, 1000)\n",
    "    \n",
    "    fig, ((ax1,ax2),(ax3,ax4)) = plt.subplots(figsize = (8,4), nrows=2, ncols=2, sharex = True)\n",
    "    \n",
    "    a = 1/(1+z_arr)\n",
    "    z = np.round(z_arr, decimals = 2)\n",
    "    \n",
    "    bin_heights, bin_borders = np.histogram(delta_arr[0], bins = 30 , range = ran)\n",
    "    bin_centers = bin_borders[:-1] + np.diff(bin_borders) / 2 \n",
    "    hist = ax4.hist(delta_arr[0], bins = 30, range = ran, color = 'g' )\n",
    "    popt, pcov = scurv(gaussian, bin_centers, bin_heights, p0 = [0, 1 ,0.1], maxfev = 30000)\n",
    "    ax4.plot(x, gaussian(x, *popt), color = 'r')\n",
    "    popt, pcov = scurv(gaussian, bin_centers, bin_heights, p0 = [0, 1 ,0.1], maxfev = 30000)\n",
    "    ax4.plot(x, gaussian(x, popt[0], popt[1], b*a[0]), color = 'b')\n",
    "    ax4.text(0.7,0.9, 'z = 0.0', transform=ax4.transAxes)\n",
    "    \n",
    "    \n",
    "    bin_heights, bin_borders = np.histogram(delta_arr[3], bins = 50 , range = ran)\n",
    "    bin_centers = bin_borders[:-1] + np.diff(bin_borders) / 2 \n",
    "    hist = ax3.hist(delta_arr[3], bins = 50, range = ran, color = 'g' )\n",
    "    popt, pcov = scurv(gaussian, bin_centers, bin_heights, p0 = [0, 1 ,0.1], maxfev = 30000)\n",
    "    ax3.plot(x, gaussian(x, *popt), color = 'r')\n",
    "    popt, pcov = scurv(gaussian, bin_centers, bin_heights, p0 = [0, 1 ,0.1], maxfev = 30000)\n",
    "    ax3.plot(x, gaussian(x, popt[0], popt[1], b*a[3]), color = 'b')\n",
    "    ax3.text(0.7,0.9, 'z = 0.38', transform=ax3.transAxes)\n",
    "    \n",
    "    bin_heights, bin_borders = np.histogram(delta_arr[7], bins = 80 , range = ran)\n",
    "    bin_centers = bin_borders[:-1] + np.diff(bin_borders) / 2 \n",
    "    hist = ax2.hist(delta_arr[7], bins = 80, range = ran, color = 'g' )\n",
    "    popt, pcov = scurv(gaussian, bin_centers, bin_heights, p0 = [0, 1 ,0.1], maxfev = 30000)\n",
    "    ax2.plot(x, gaussian(x, *popt), color = 'r')\n",
    "    popt, pcov = scurv(gaussian, bin_centers, bin_heights, p0 = [0, 1 ,0.1], maxfev = 30000)\n",
    "    ax2.plot(x, gaussian(x, popt[0], popt[1], b*a[7]), color = 'b')\n",
    "    ax2.text(0.7,0.9, 'z = 1.55 ', transform=ax2.transAxes)\n",
    "    \n",
    "    bin_heights, bin_borders = np.histogram(delta_arr[13], bins = 100 , range = ran)\n",
    "    bin_centers = bin_borders[:-1] + np.diff(bin_borders) / 2 \n",
    "    hist = ax1.hist(delta_arr[13], bins = 100, range = ran, color = 'g' )\n",
    "    popt, pcov = scurv(gaussian, bin_centers, bin_heights, p0 = [0, 1 ,0.1], maxfev = 30000)\n",
    "    ax1.plot(x, gaussian(x, *popt), color = 'r', label = 'Fitted')\n",
    "    popt, pcov = scurv(gaussian, bin_centers, bin_heights, p0 = [0, 1 ,0.1], maxfev = 30000)\n",
    "    ax1.plot(x, gaussian(x, popt[0], popt[1], b*a[13]), color = 'b', label = 'Extrapolated')\n",
    "    ax1.text(0.7,0.9, 'z = 10.76', transform=ax1.transAxes)\n",
    "    \n",
    "    fig.text(0.5, 0.02, 'Overdensity $\\delta$', ha='center', fontsize=14)\n",
    "    fig.text(0.04, 0.5, 'Frequency', va='center', rotation='vertical', fontsize=14)\n",
    "    fig.subplots_adjust(wspace=0.15, hspace=0.15)\n",
    "    fig.legend(bbox_to_anchor = (0.595, 0))\n",
    "    print((f'Analytic Prediction for z = {z[0]}, {z[3]}, {z[7]}, {z[13]}'))\n",
    "    plt.savefig('Subplots\\Gaussian_Extrapolated_Subplots', dpi =200)\n",
    "    plt.show()\n"
   ]
  },
  {
   "cell_type": "markdown",
   "id": "e0863bcd",
   "metadata": {},
   "source": [
    "## Write out data from plotting function "
   ]
  },
  {
   "cell_type": "code",
   "execution_count": null,
   "id": "0de6f1ef",
   "metadata": {
    "scrolled": true
   },
   "outputs": [],
   "source": [
    "def write_data(modified, analytic, rad):\n",
    "    \n",
    "    outfile = open(f'Text_Data/Extrapolation Data/modified_{rad}Mpc.txt', 'w')\n",
    "\n",
    "    for i in range(len(modified)):\n",
    "        outfile.write(str(modified[i]) + \"\\n\")\n",
    "\n",
    "    outfile.close()\n",
    "\n",
    "    outfile = open(f'Text_Data/Extrapolation Data/analytic_{rad}Mpc.txt', 'w')\n",
    "\n",
    "    for i in range(len(analytic)):\n",
    "        outfile.write(str(analytic[i]) + \"\\n\")\n",
    "\n",
    "    outfile.close()\n",
    "    "
   ]
  },
  {
   "cell_type": "code",
   "execution_count": null,
   "id": "d0d4a5cc",
   "metadata": {},
   "outputs": [],
   "source": [
    "z_arr, delta_arr, b, b_err = data_load(30)\n",
    "modified, analytic = extrapolation(z_arr, delta_arr, b, 30)\n",
    "subplots_extrapolated(z_arr, delta_arr, b, 30)\n"
   ]
  },
  {
   "cell_type": "code",
   "execution_count": null,
   "id": "53d4f814",
   "metadata": {},
   "outputs": [],
   "source": []
  },
  {
   "cell_type": "code",
   "execution_count": null,
   "id": "c42cf33c",
   "metadata": {},
   "outputs": [],
   "source": []
  }
 ],
 "metadata": {
  "kernelspec": {
   "display_name": "Python 3 (ipykernel)",
   "language": "python",
   "name": "python3"
  },
  "language_info": {
   "codemirror_mode": {
    "name": "ipython",
    "version": 3
   },
   "file_extension": ".py",
   "mimetype": "text/x-python",
   "name": "python",
   "nbconvert_exporter": "python",
   "pygments_lexer": "ipython3",
   "version": "3.9.12"
  }
 },
 "nbformat": 4,
 "nbformat_minor": 5
}
